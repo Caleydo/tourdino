{
 "cells": [
  {
   "cell_type": "code",
   "execution_count": 1,
   "metadata": {},
   "outputs": [
    {
     "data": {
      "text/plain": [
       "True"
      ]
     },
     "execution_count": 1,
     "metadata": {},
     "output_type": "execute_result"
    }
   ],
   "source": [
    "import pandas as pd\n",
    "from sklearn.metrics.cluster import adjusted_rand_score\n",
    "from scipy.stats import chi2_contingency\n",
    "from sklearn.metrics import jaccard_similarity_score\n",
    "import math\n",
    "import random\n",
    "\n",
    "TUMOR_TYPE = ['astrocytoma/glioblastoma',  'astrocytoma/glioblastoma',  'astrocytoma/glioblastoma',  'astrocytoma/glioblastoma',  'astrocytoma/glioblastoma',  'astrocytoma/glioblastoma',  'astrocytoma/glioblastoma',  'astrocytoma/glioblastoma',  'astrocytoma/glioblastoma',  'astrocytoma/glioblastoma',  'astrocytoma/glioblastoma',  'astrocytoma/glioblastoma',  'astrocytoma/glioblastoma',  'astrocytoma/glioblastoma',  'astrocytoma/glioblastoma',  'astrocytoma/glioblastoma',  'astrocytoma/glioblastoma',  'astrocytoma/glioblastoma',  'astrocytoma/glioblastoma',  'astrocytoma/glioblastoma',  'astrocytoma/glioblastoma',  'astrocytoma/glioblastoma',  'astrocytoma/glioblastoma',  'astrocytoma/glioblastoma',  'astrocytoma/glioblastoma',  'astrocytoma/glioblastoma',  'astrocytoma/glioblastoma',  'astrocytoma/glioblastoma',  'astrocytoma/glioblastoma',  'astrocytoma/glioblastoma',  'astrocytoma/glioblastoma',  'astrocytoma/glioblastoma',  'astrocytoma/glioblastoma',  'astrocytoma/glioblastoma',  'astrocytoma/glioblastoma',  'astrocytoma/glioblastoma',  'astrocytoma/glioblastoma',  'astrocytoma/glioblastoma',  'astrocytoma/glioblastoma',  'astrocytoma/glioblastoma',  'astrocytoma/glioblastoma',  'astrocytoma/glioblastoma',  'astrocytoma/glioblastoma',  'astrocytoma/glioblastoma',  'astrocytoma/glioblastoma',  'astrocytoma/glioblastoma',  'astrocytoma/glioblastoma',  'astrocytoma/glioblastoma',  'astrocytoma/glioblastoma',  'astrocytoma/glioblastoma',  'bone sarcoma',  'bone sarcoma',  'bone sarcoma',  'bone sarcoma',  'bone sarcoma',  'bone sarcoma',  'bone sarcoma',  'bone sarcoma',  'bone sarcoma',  'bone sarcoma',  'bone sarcoma',  'bone sarcoma',  'bone sarcoma',  'bone sarcoma',  'bone sarcoma',  'bone sarcoma',  'bone sarcoma',  'bone sarcoma',  'bone sarcoma',  'melanoma',  'melanoma',  'melanoma',  'melanoma',  'melanoma',  'melanoma',  'melanoma',  'melanoma',  'melanoma',  'melanoma',  'melanoma',  'melanoma',  'melanoma',  'melanoma',  'melanoma',  'melanoma',  'melanoma',  'melanoma',  'melanoma',  'melanoma',  'melanoma',  'melanoma',  'melanoma',  'melanoma',  'melanoma',  'melanoma',  'melanoma',  'melanoma',  'melanoma',  'melanoma',  'melanoma',  'melanoma',  'melanoma',  'melanoma',  'melanoma',  'melanoma',  'melanoma',  'melanoma',  'melanoma',  'melanoma',  'melanoma',  'melanoma',  'melanoma',  'melanoma',  'melanoma',  'melanoma',  'melanoma',  'melanoma',  'melanoma',  'melanoma',  'melanoma',  'melanoma',  'melanoma',  'melanoma',  'melanoma',  'melanoma',  'melanoma',  'melanoma',  'NSCLC',  'NSCLC',  'NSCLC',  'NSCLC',  'NSCLC',  'NSCLC',  'NSCLC',  'NSCLC',  'NSCLC',  'NSCLC',  'NSCLC',  'NSCLC',  'NSCLC',  'NSCLC',  'NSCLC',  'NSCLC',  'NSCLC',  'NSCLC',  'NSCLC',  'NSCLC',  'NSCLC',  'NSCLC',  'NSCLC',  'NSCLC',  'NSCLC',  'NSCLC',  'NSCLC',  'NSCLC',  'NSCLC',  'NSCLC',  'NSCLC',  'NSCLC',  'NSCLC',  'NSCLC',  'NSCLC',  'NSCLC',  'NSCLC',  'NSCLC',  'NSCLC',  'NSCLC',  'NSCLC',  'NSCLC',  'NSCLC',  'NSCLC',  'NSCLC',  'NSCLC',  'NSCLC',  'NSCLC',  'NSCLC',  'NSCLC',  'NSCLC',  'NSCLC',  'NSCLC',  'NSCLC',  'NSCLC',  'NSCLC',  'NSCLC',  'NSCLC',  'NSCLC',  'NSCLC',  'NSCLC',  'NSCLC',  'NSCLC',  'NSCLC',  'NSCLC',  'NSCLC',  'NSCLC',  'NSCLC',  'NSCLC',  'NSCLC',  'NSCLC',  'NSCLC',  'NSCLC',  'NSCLC',  'NSCLC',  'NSCLC',  'NSCLC',  'NSCLC',  'NSCLC',  'NSCLC',  'NSCLC',  'NSCLC',  'NSCLC',  'NSCLC',  'NSCLC',  'NSCLC',  'NSCLC',  'NSCLC',  'NSCLC',  'NSCLC',  'NSCLC',  'NSCLC',  'NSCLC',  'NSCLC',  'NSCLC',  'NSCLC',  'NSCLC',  'NSCLC',  'NSCLC',  'NSCLC',  'NSCLC',  'NSCLC',  'NSCLC',  'NSCLC',  'NSCLC',  'NSCLC',  'NSCLC',  'NSCLC',  'NSCLC',  'NSCLC',  'NSCLC',  'NSCLC',  'NSCLC',  'NSCLC',  'NSCLC',  'NSCLC',  'NSCLC',  'NSCLC',  'NSCLC',  'NSCLC',  'NSCLC',  'NSCLC',  'NSCLC',  'NSCLC',  'NSCLC',  'NSCLC',  'NSCLC',  'NSCLC']\n",
    "TP53_AA_MUTATED = ['Mutated',  'Mutated',  'Mutated',  'Mutated',  'Mutated',  'Mutated',  'Mutated',  'Mutated',  'Mutated',  'Mutated',  'Mutated',  'Mutated',  'Mutated',  'Mutated',  'Mutated',  'Mutated',  'Mutated',  'Mutated',  'Mutated',  'Mutated',  'Mutated',  'Mutated',  'Mutated',  'Mutated',  'Mutated',  'Mutated',  'Mutated',  'Mutated',  'Mutated',  'Mutated',  'Mutated',  'Non Mutated',  'Non Mutated',  'Non Mutated',  'Non Mutated',  'Non Mutated',  'Non Mutated',  'Non Mutated',  'Non Mutated',  'Non Mutated',  'Non Mutated',  'Non Mutated',  'Non Mutated',  'Unknown',  'Unknown',  'Unknown',  'Unknown',  'Unknown',  'Unknown',  'Unknown',  'Mutated',  'Mutated',  'Mutated',  'Mutated',  'Mutated',  'Mutated',  'Mutated',  'Mutated',  'Non Mutated',  'Non Mutated',  'Non Mutated',  'Non Mutated',  'Non Mutated',  'Non Mutated',  'Non Mutated',  'Non Mutated',  'Unknown',  'Unknown',  'Unknown',  'Mutated',  'Mutated',  'Mutated',  'Mutated',  'Mutated',  'Mutated',  'Mutated',  'Mutated',  'Mutated',  'Mutated',  'Mutated',  'Mutated',  'Mutated',  'Mutated',  'Mutated',  'Mutated',  'Mutated',  'Non Mutated',  'Non Mutated',  'Non Mutated',  'Non Mutated',  'Non Mutated',  'Non Mutated',  'Non Mutated',  'Non Mutated',  'Non Mutated',  'Non Mutated',  'Non Mutated',  'Non Mutated',  'Non Mutated',  'Non Mutated',  'Non Mutated',  'Non Mutated',  'Non Mutated',  'Non Mutated',  'Non Mutated',  'Non Mutated',  'Non Mutated',  'Non Mutated',  'Non Mutated',  'Non Mutated',  'Non Mutated',  'Non Mutated',  'Non Mutated',  'Non Mutated',  'Non Mutated',  'Non Mutated',  'Non Mutated',  'Unknown',  'Unknown',  'Unknown',  'Unknown',  'Unknown',  'Unknown',  'Unknown',  'Unknown',  'Unknown',  'Unknown',  'Mutated',  'Mutated',  'Mutated',  'Mutated',  'Mutated',  'Mutated',  'Mutated',  'Mutated',  'Mutated',  'Mutated',  'Mutated',  'Mutated',  'Mutated',  'Mutated',  'Mutated',  'Mutated',  'Mutated',  'Mutated',  'Mutated',  'Mutated',  'Mutated',  'Mutated',  'Mutated',  'Mutated',  'Mutated',  'Mutated',  'Mutated',  'Mutated',  'Mutated',  'Mutated',  'Mutated',  'Mutated',  'Mutated',  'Mutated',  'Mutated',  'Mutated',  'Mutated',  'Mutated',  'Mutated',  'Mutated',  'Mutated',  'Mutated',  'Mutated',  'Mutated',  'Mutated',  'Mutated',  'Mutated',  'Mutated',  'Mutated',  'Mutated',  'Mutated',  'Mutated',  'Mutated',  'Mutated',  'Mutated',  'Mutated',  'Mutated',  'Mutated',  'Mutated',  'Mutated',  'Mutated',  'Mutated',  'Mutated',  'Mutated',  'Mutated',  'Mutated',  'Mutated',  'Mutated',  'Mutated',  'Mutated',  'Mutated',  'Mutated',  'Mutated',  'Mutated',  'Mutated',  'Mutated',  'Mutated',  'Mutated',  'Mutated',  'Mutated',  'Mutated',  'Mutated',  'Mutated',  'Mutated',  'Mutated',  'Mutated',  'Mutated',  'Non Mutated',  'Non Mutated',  'Non Mutated',  'Non Mutated',  'Non Mutated',  'Non Mutated',  'Non Mutated',  'Non Mutated',  'Non Mutated',  'Non Mutated',  'Non Mutated',  'Non Mutated',  'Non Mutated',  'Non Mutated',  'Non Mutated',  'Non Mutated',  'Unknown',  'Unknown',  'Unknown',  'Unknown',  'Unknown',  'Unknown',  'Unknown',  'Unknown',  'Unknown',  'Unknown',  'Unknown',  'Unknown',  'Unknown',  'Unknown',  'Unknown',  'Unknown',  'Unknown',  'Unknown',  'Unknown',  'Unknown',  'Unknown',  'Unknown',  'Unknown',  'Unknown',  'Unknown']\n",
    "df_gene = pd.DataFrame(data={'Tumor Type': TUMOR_TYPE, 'TP53 AA Mutated': TP53_AA_MUTATED})\n",
    "\n",
    "df_2to4 = pd.DataFrame(data={'A': [1,1,1,1,2,2,2,2], 'B': [1,1,2,2,3,3,4,4]})\n",
    "df_2to6 = pd.DataFrame(data={'A': [1,1,1,1,2,2,2,2], 'B': [1,2,2,3,4,5,5,6]})\n",
    "\n",
    "len(TUMOR_TYPE) == len(TP53_AA_MUTATED)"
   ]
  },
  {
   "cell_type": "code",
   "execution_count": null,
   "metadata": {},
   "outputs": [],
   "source": []
  },
  {
   "cell_type": "markdown",
   "metadata": {},
   "source": [
    "# Adjusted Rand Index\n",
    "https://scikit-learn.org/stable/modules/generated/sklearn.metrics.adjusted_rand_score.html\n"
   ]
  },
  {
   "cell_type": "code",
   "execution_count": 2,
   "metadata": {},
   "outputs": [],
   "source": [
    "randomizations = 1000\n",
    "\n",
    "def ari(arr1, arr2):\n",
    "    score = adjusted_rand_score(arr1, arr2)\n",
    "    p = 0\n",
    "    for index in range(randomizations):\n",
    "        rnd_score = adjusted_rand_score(random.sample(TUMOR_TYPE, len(TUMOR_TYPE)), TP53_AA_MUTATED)\n",
    "        if rnd_score > score:\n",
    "            p += 1/randomizations\n",
    "            \n",
    "    return {'score': score, 'p': p}\n",
    "    "
   ]
  },
  {
   "cell_type": "code",
   "execution_count": 3,
   "metadata": {},
   "outputs": [
    {
     "data": {
      "text/plain": [
       "{'score': 0.10567919371064338, 'p': 0}"
      ]
     },
     "execution_count": 3,
     "metadata": {},
     "output_type": "execute_result"
    }
   ],
   "source": [
    "ari(df_gene['Tumor Type'], df_gene['TP53 AA Mutated'])"
   ]
  },
  {
   "cell_type": "code",
   "execution_count": 4,
   "metadata": {},
   "outputs": [
    {
     "data": {
      "text/plain": [
       "{'score': 1.0, 'p': 0}"
      ]
     },
     "execution_count": 4,
     "metadata": {},
     "output_type": "execute_result"
    }
   ],
   "source": [
    "ari(df_2to4['A'], df_2to4['A'])"
   ]
  },
  {
   "cell_type": "code",
   "execution_count": 5,
   "metadata": {},
   "outputs": [
    {
     "data": {
      "text/plain": [
       "{'score': 0.36363636363636365, 'p': 0}"
      ]
     },
     "execution_count": 5,
     "metadata": {},
     "output_type": "execute_result"
    }
   ],
   "source": [
    "ari(df_2to4['A'], df_2to4['B'])"
   ]
  },
  {
   "cell_type": "code",
   "execution_count": 6,
   "metadata": {},
   "outputs": [
    {
     "data": {
      "text/plain": [
       "{'score': 0.18604651162790695, 'p': 0}"
      ]
     },
     "execution_count": 6,
     "metadata": {},
     "output_type": "execute_result"
    }
   ],
   "source": [
    "ari(df_2to6['A'], df_2to6['B'])"
   ]
  },
  {
   "cell_type": "markdown",
   "metadata": {},
   "source": [
    "# Pearson Chi Square Independence Test\n",
    "https://docs.scipy.org/doc/scipy/reference/generated/scipy.stats.chi2_contingency.html#scipy.stats.chi2_contingency"
   ]
  },
  {
   "cell_type": "code",
   "execution_count": 7,
   "metadata": {},
   "outputs": [
    {
     "data": {
      "text/html": [
       "<div>\n",
       "<style scoped>\n",
       "    .dataframe tbody tr th:only-of-type {\n",
       "        vertical-align: middle;\n",
       "    }\n",
       "\n",
       "    .dataframe tbody tr th {\n",
       "        vertical-align: top;\n",
       "    }\n",
       "\n",
       "    .dataframe thead th {\n",
       "        text-align: right;\n",
       "    }\n",
       "</style>\n",
       "<table border=\"1\" class=\"dataframe\">\n",
       "  <thead>\n",
       "    <tr style=\"text-align: right;\">\n",
       "      <th>TP53 AA Mutated</th>\n",
       "      <th>Mutated</th>\n",
       "      <th>Non Mutated</th>\n",
       "      <th>Unknown</th>\n",
       "    </tr>\n",
       "    <tr>\n",
       "      <th>Tumor Type</th>\n",
       "      <th></th>\n",
       "      <th></th>\n",
       "      <th></th>\n",
       "    </tr>\n",
       "  </thead>\n",
       "  <tbody>\n",
       "    <tr>\n",
       "      <th>NSCLC</th>\n",
       "      <td>87</td>\n",
       "      <td>16</td>\n",
       "      <td>25</td>\n",
       "    </tr>\n",
       "    <tr>\n",
       "      <th>astrocytoma/glioblastoma</th>\n",
       "      <td>31</td>\n",
       "      <td>12</td>\n",
       "      <td>7</td>\n",
       "    </tr>\n",
       "    <tr>\n",
       "      <th>bone sarcoma</th>\n",
       "      <td>8</td>\n",
       "      <td>8</td>\n",
       "      <td>3</td>\n",
       "    </tr>\n",
       "    <tr>\n",
       "      <th>melanoma</th>\n",
       "      <td>17</td>\n",
       "      <td>31</td>\n",
       "      <td>10</td>\n",
       "    </tr>\n",
       "  </tbody>\n",
       "</table>\n",
       "</div>"
      ],
      "text/plain": [
       "TP53 AA Mutated           Mutated  Non Mutated  Unknown\n",
       "Tumor Type                                             \n",
       "NSCLC                          87           16       25\n",
       "astrocytoma/glioblastoma       31           12        7\n",
       "bone sarcoma                    8            8        3\n",
       "melanoma                       17           31       10"
      ]
     },
     "execution_count": 7,
     "metadata": {},
     "output_type": "execute_result"
    }
   ],
   "source": [
    "crosstab = pd.crosstab(df_gene['Tumor Type'], df_gene['TP53 AA Mutated'])\n",
    "crosstab"
   ]
  },
  {
   "cell_type": "code",
   "execution_count": 8,
   "metadata": {},
   "outputs": [
    {
     "data": {
      "text/plain": [
       "(39.743176118301164, 5.116297150458487e-07)"
      ]
     },
     "execution_count": 8,
     "metadata": {},
     "output_type": "execute_result"
    }
   ],
   "source": [
    "chi2, p, dof, expected = chi2_contingency(crosstab)\n",
    "(chi2, p)"
   ]
  },
  {
   "cell_type": "code",
   "execution_count": 9,
   "metadata": {},
   "outputs": [
    {
     "data": {
      "text/plain": [
       "(4.5, 0.033894853524689295, 1, array([[2., 2.],\n",
       "        [2., 2.]]))"
      ]
     },
     "execution_count": 9,
     "metadata": {},
     "output_type": "execute_result"
    }
   ],
   "source": [
    "chi2_contingency(pd.crosstab(df_2to4['A'], df_2to4['A']))"
   ]
  },
  {
   "cell_type": "code",
   "execution_count": 10,
   "metadata": {},
   "outputs": [
    {
     "data": {
      "text/plain": [
       "(8.0, 0.04601170568923136, 3, array([[1., 1., 1., 1.],\n",
       "        [1., 1., 1., 1.]]))"
      ]
     },
     "execution_count": 10,
     "metadata": {},
     "output_type": "execute_result"
    }
   ],
   "source": [
    "chi2_contingency(pd.crosstab(df_2to4['A'], df_2to4['B']))"
   ]
  },
  {
   "cell_type": "code",
   "execution_count": 11,
   "metadata": {},
   "outputs": [
    {
     "data": {
      "text/plain": [
       "(8.0, 0.1562356275777222, 5, array([[0.5, 1. , 0.5, 0.5, 1. , 0.5],\n",
       "        [0.5, 1. , 0.5, 0.5, 1. , 0.5]]))"
      ]
     },
     "execution_count": 11,
     "metadata": {},
     "output_type": "execute_result"
    }
   ],
   "source": [
    "chi2_contingency(pd.crosstab(df_2to6['A'], df_2to6['B']))"
   ]
  },
  {
   "cell_type": "markdown",
   "metadata": {},
   "source": [
    "## Cramers V"
   ]
  },
  {
   "cell_type": "code",
   "execution_count": 12,
   "metadata": {},
   "outputs": [
    {
     "data": {
      "text/plain": [
       "0.279155505606453"
      ]
     },
     "execution_count": 12,
     "metadata": {},
     "output_type": "execute_result"
    }
   ],
   "source": [
    "c = min(crosstab.shape)\n",
    "v = math.sqrt(chi2/(df_gene.shape[0]*(c-1)))\n",
    "v"
   ]
  },
  {
   "cell_type": "markdown",
   "metadata": {},
   "source": [
    "# Jaccard Index"
   ]
  },
  {
   "cell_type": "code",
   "execution_count": 13,
   "metadata": {},
   "outputs": [
    {
     "data": {
      "text/plain": [
       "1.0"
      ]
     },
     "execution_count": 13,
     "metadata": {},
     "output_type": "execute_result"
    }
   ],
   "source": [
    "jaccard_similarity_score(['a', 'a', 'a', 'a'], ['a', 'a', 'a', 'a'])"
   ]
  },
  {
   "cell_type": "code",
   "execution_count": 14,
   "metadata": {},
   "outputs": [
    {
     "data": {
      "text/plain": [
       "0.75"
      ]
     },
     "execution_count": 14,
     "metadata": {},
     "output_type": "execute_result"
    }
   ],
   "source": [
    "jaccard_similarity_score(['a', 'a', 'a', 'a'], ['a', 'a', 'a', 'b'])"
   ]
  },
  {
   "cell_type": "code",
   "execution_count": 15,
   "metadata": {},
   "outputs": [
    {
     "data": {
      "text/plain": [
       "0.5"
      ]
     },
     "execution_count": 15,
     "metadata": {},
     "output_type": "execute_result"
    }
   ],
   "source": [
    "jaccard_similarity_score(['a', 'a', 'a', 'a'], ['a', 'a', 'b', 'b'])"
   ]
  },
  {
   "cell_type": "code",
   "execution_count": 16,
   "metadata": {},
   "outputs": [
    {
     "data": {
      "text/plain": [
       "0.5"
      ]
     },
     "execution_count": 16,
     "metadata": {},
     "output_type": "execute_result"
    }
   ],
   "source": [
    "jaccard_similarity_score(['a', 'a', 'a', 'a'], ['b', 'a', 'a', 'b'])"
   ]
  },
  {
   "cell_type": "markdown",
   "metadata": {},
   "source": [
    "# Adjusted Rand Index\n",
    "https://scikit-learn.org/stable/modules/generated/sklearn.metrics.adjusted_rand_score.html\n"
   ]
  },
  {
   "cell_type": "code",
   "execution_count": 17,
   "metadata": {
    "scrolled": true
   },
   "outputs": [
    {
     "data": {
      "text/plain": [
       "1.0"
      ]
     },
     "execution_count": 17,
     "metadata": {},
     "output_type": "execute_result"
    }
   ],
   "source": [
    "adjusted_rand_score([1,1,1,1], [1,1,1,1])"
   ]
  },
  {
   "cell_type": "code",
   "execution_count": 18,
   "metadata": {
    "scrolled": true
   },
   "outputs": [
    {
     "data": {
      "text/plain": [
       "0.5714285714285715"
      ]
     },
     "execution_count": 18,
     "metadata": {},
     "output_type": "execute_result"
    }
   ],
   "source": [
    "adjusted_rand_score([0, 0, 1, 2], [0, 0, 1, 1])"
   ]
  },
  {
   "cell_type": "code",
   "execution_count": 19,
   "metadata": {
    "scrolled": true
   },
   "outputs": [
    {
     "data": {
      "text/plain": [
       "0.0"
      ]
     },
     "execution_count": 19,
     "metadata": {},
     "output_type": "execute_result"
    }
   ],
   "source": [
    "adjusted_rand_score([1,1,1,1], [1,1,1,2])"
   ]
  },
  {
   "cell_type": "code",
   "execution_count": 20,
   "metadata": {},
   "outputs": [
    {
     "data": {
      "text/plain": [
       "0.0"
      ]
     },
     "execution_count": 20,
     "metadata": {},
     "output_type": "execute_result"
    }
   ],
   "source": [
    "adjusted_rand_score([1,1,1], [2,3,4])"
   ]
  },
  {
   "cell_type": "code",
   "execution_count": 22,
   "metadata": {},
   "outputs": [
    {
     "data": {
      "text/plain": [
       "1.0"
      ]
     },
     "execution_count": 22,
     "metadata": {},
     "output_type": "execute_result"
    }
   ],
   "source": [
    "adjusted_rand_score([1,1,2], [1,1,3])"
   ]
  },
  {
   "cell_type": "markdown",
   "metadata": {},
   "source": [
    "# Chi2 Independence Test"
   ]
  },
  {
   "cell_type": "code",
   "execution_count": 34,
   "metadata": {},
   "outputs": [
    {
     "data": {
      "text/plain": [
       "(0.0, 1.0)"
      ]
     },
     "execution_count": 34,
     "metadata": {},
     "output_type": "execute_result"
    }
   ],
   "source": [
    "df = pd.DataFrame(data={'A': [1,1,1,1], 'B': [1,1,1,1]})\n",
    "chi2, p, dof, expected = chi2_contingency(pd.crosstab(df['A'], df['B']))\n",
    "(chi2, p)"
   ]
  },
  {
   "cell_type": "code",
   "execution_count": 43,
   "metadata": {},
   "outputs": [
    {
     "data": {
      "text/plain": [
       "(0.4444444444444444, 0.5049850750938457)"
      ]
     },
     "execution_count": 43,
     "metadata": {},
     "output_type": "execute_result"
    }
   ],
   "source": [
    "df = pd.DataFrame(data={'A': [0,0,0,1], 'B': [0,0,0,1]})\n",
    "chi2, p, dof, expected = chi2_contingency(pd.crosstab(df['A'], df['B']))\n",
    "(chi2, p)"
   ]
  },
  {
   "cell_type": "code",
   "execution_count": 41,
   "metadata": {},
   "outputs": [
    {
     "data": {
      "text/plain": [
       "(1.0, 0.31731050786291115)"
      ]
     },
     "execution_count": 41,
     "metadata": {},
     "output_type": "execute_result"
    }
   ],
   "source": [
    "df = pd.DataFrame(data={'A': [1,1,2,2], 'B': [6,6,8,8]})\n",
    "chi2, p, dof, expected = chi2_contingency(pd.crosstab(df['A'], df['B']))\n",
    "(chi2, p)"
   ]
  }
 ],
 "metadata": {
  "kernelspec": {
   "display_name": "Python 3",
   "language": "python",
   "name": "python3"
  },
  "language_info": {
   "codemirror_mode": {
    "name": "ipython",
    "version": 3
   },
   "file_extension": ".py",
   "mimetype": "text/x-python",
   "name": "python",
   "nbconvert_exporter": "python",
   "pygments_lexer": "ipython3",
   "version": "3.7.2"
  }
 },
 "nbformat": 4,
 "nbformat_minor": 2
}
